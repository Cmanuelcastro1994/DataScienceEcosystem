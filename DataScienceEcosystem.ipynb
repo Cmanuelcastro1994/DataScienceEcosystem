{
 "cells": [
  {
   "cell_type": "markdown",
   "id": "10d9f305-9497-42d9-b994-924a7108874c",
   "metadata": {},
   "source": [
    "DataScienceEcosystem"
   ]
  },
  {
   "cell_type": "markdown",
   "id": "6122847c-6de4-47c7-ad8c-29070015b523",
   "metadata": {},
   "source": [
    "In this notebook, Data science tools and ecosystmen are summarized."
   ]
  },
  {
   "cell_type": "markdown",
   "id": "e9b5eb6d-1272-4cb5-96a6-7bed154c1567",
   "metadata": {},
   "source": [
    "Dome Data science Languages \n",
    "Python\n",
    "R\n",
    "SQL\n",
    "Java\n",
    "C++"
   ]
  },
  {
   "cell_type": "markdown",
   "id": "05f8a9c0-f183-49bf-a478-1f16182fd4b5",
   "metadata": {},
   "source": [
    "Some Data science Libreries \n",
    "Pytorch \n",
    "Keras\n",
    "Pandas \n",
    "NumPy\n",
    "Scipy\n",
    "MatPlotlib\n",
    "TensorFlow\n",
    "Scikit-Learn "
   ]
  },
  {
   "cell_type": "markdown",
   "id": "7cd97e13-ee79-40c7-a962-52c3de756ee9",
   "metadata": {},
   "source": [
    "|Data Science Tools|\n",
    "|---|\n",
    "|SAS|\n",
    "|GitHub|\n",
    "|Apache Hadoop|\n",
    "|TensorFlow|\n"
   ]
  },
  {
   "cell_type": "markdown",
   "id": "916cbfc6-35a7-4d0e-a586-a1c03d5da8b5",
   "metadata": {},
   "source": [
    "Below You will see some arithmetic expressions"
   ]
  },
  {
   "cell_type": "code",
   "execution_count": 7,
   "id": "a33ef8e4-b3ca-4040-8279-eea8b3854b95",
   "metadata": {},
   "outputs": [
    {
     "data": {
      "text/plain": [
       "17"
      ]
     },
     "execution_count": 7,
     "metadata": {},
     "output_type": "execute_result"
    }
   ],
   "source": [
    "#  Some arithmetic opararions \n",
    "(3*4)+5\n"
   ]
  },
  {
   "cell_type": "code",
   "execution_count": 6,
   "id": "6039cdc6-18d2-4ff5-8808-ffd73b589eb0",
   "metadata": {},
   "outputs": [
    {
     "data": {
      "text/plain": [
       "3.3333333333333335"
      ]
     },
     "execution_count": 6,
     "metadata": {},
     "output_type": "execute_result"
    }
   ],
   "source": [
    "# Converting minutes to hours, dividing by 60\n",
    "200/60\n"
   ]
  },
  {
   "cell_type": "markdown",
   "id": "e42e26c3-9dc8-4493-9c7d-f70e116db4a5",
   "metadata": {},
   "source": [
    "-Objetive-\n",
    "* List popular libreries for Data Science \n",
    "* List popular tools  for Data Science\n",
    "* List popular lenguage for Data Science"
   ]
  },
  {
   "cell_type": "markdown",
   "id": "714848f9-7a25-446d-8a93-438f1bf43586",
   "metadata": {},
   "source": [
    "Author\n",
    "Carlos Castro"
   ]
  }
 ],
 "metadata": {
  "kernelspec": {
   "display_name": "Python 3 (ipykernel)",
   "language": "python",
   "name": "python3"
  },
  "language_info": {
   "codemirror_mode": {
    "name": "ipython",
    "version": 3
   },
   "file_extension": ".py",
   "mimetype": "text/x-python",
   "name": "python",
   "nbconvert_exporter": "python",
   "pygments_lexer": "ipython3",
   "version": "3.12.1"
  }
 },
 "nbformat": 4,
 "nbformat_minor": 5
}
